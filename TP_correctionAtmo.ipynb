{
 "cells": [
  {
   "cell_type": "markdown",
   "metadata": {},
   "source": [
    "# TP correction Atmosphérique (tutoriel traitement geospatial)\n",
    "\n",
    "\n",
    "***\n",
    "##### par Julien Meloche"
   ]
  },
  {
   "cell_type": "markdown",
   "metadata": {},
   "source": [
    "Le but de ce TP est de pouvoir appliquer une correction atmosphérique sur des mesures de température de brillance ($T_B$). \n",
    "Ce TP vas vous permettre d'explorer des librairies très puissantes sur python.\n",
    "\n",
    "1. installation de python et environnement anaconda\n",
    "2. ouverture de fichier .tiff, netcdf avec xarray, pandas et numpy\n",
    "3. traitement géospatiale (rasterio, geopandas)\n",
    "4. correction atmosphérique\n"
   ]
  },
  {
   "cell_type": "markdown",
   "metadata": {},
   "source": [
    "#### Création d'environnement avec conda (anaconda)\n",
    "Ceci vas vous permettre d'installer des librairies pour différent projet sans créer des conflits. C'est une bonnne habitude d'avoir plusieurs environnement. Nous allons donc créer un environnment pour le traitement géospatiale.\n"
   ]
  },
  {
   "cell_type": "markdown",
   "metadata": {},
   "source": [
    "utiliser votre barre de recherche windows pour ouvrir le anaconda prompt\n",
    "\n",
    "dans le anaconda prompt ... <br><br>\n",
    "crée un environnement virtuelle  avec la commande\n",
    "\n",
    "```console\n",
    "conda create --name geospatial\n",
    "```\n",
    "activer votre environnement\n",
    "```console\n",
    "conda activate geospatial\n",
    "```\n",
    "installer les librairies de base\n",
    "```console\n",
    "conda install numpy pandas xarray matplotlib\n",
    "```\n",
    "installer les librairies de traitement spatial\n",
    "```console\n",
    "conda install rasterio geopandas\n",
    "```\n"
   ]
  }
 ],
 "metadata": {
  "kernelspec": {
   "display_name": "cryosat",
   "language": "python",
   "name": "python3"
  },
  "language_info": {
   "codemirror_mode": {
    "name": "ipython",
    "version": 3
   },
   "file_extension": ".py",
   "mimetype": "text/x-python",
   "name": "python",
   "nbconvert_exporter": "python",
   "pygments_lexer": "ipython3",
   "version": "3.10.4"
  },
  "orig_nbformat": 4
 },
 "nbformat": 4,
 "nbformat_minor": 2
}
